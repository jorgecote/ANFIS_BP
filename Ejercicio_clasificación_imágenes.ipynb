{
  "nbformat": 4,
  "nbformat_minor": 0,
  "metadata": {
    "colab": {
      "provenance": [],
      "authorship_tag": "ABX9TyMsRQzAFaNprQfpGC0FZi1r",
      "include_colab_link": true
    },
    "kernelspec": {
      "name": "python3",
      "display_name": "Python 3"
    },
    "language_info": {
      "name": "python"
    }
  },
  "cells": [
    {
      "cell_type": "markdown",
      "metadata": {
        "id": "view-in-github",
        "colab_type": "text"
      },
      "source": [
        "<a href=\"https://colab.research.google.com/github/jorgecote/ANFIS_BP/blob/master/Ejercicio_clasificaci%C3%B3n_im%C3%A1genes.ipynb\" target=\"_parent\"><img src=\"https://colab.research.google.com/assets/colab-badge.svg\" alt=\"Open In Colab\"/></a>"
      ]
    },
    {
      "cell_type": "markdown",
      "source": [
        "#EJERCICIO"
      ],
      "metadata": {
        "id": "nX0OMwK1jPEX"
      }
    },
    {
      "cell_type": "code",
      "execution_count": 4,
      "metadata": {
        "id": "V5nd3TtpjLif"
      },
      "outputs": [],
      "source": [
        "import tensorflow as tf\n",
        "import matplotlib.pyplot as plt\n",
        "import numpy as np"
      ]
    },
    {
      "cell_type": "markdown",
      "source": [
        "## Descarga de conjunto de datos"
      ],
      "metadata": {
        "id": "fZbDK_Q9j6T7"
      }
    },
    {
      "cell_type": "code",
      "source": [
        "datos = tf.keras.datasets.fashion_mnist\n",
        "(train_images, train_labels), (test_images, test_labels)=datos.load_data()\n"
      ],
      "metadata": {
        "colab": {
          "base_uri": "https://localhost:8080/"
        },
        "id": "KsshVThfj88e",
        "outputId": "c85d7c3e-774f-4770-c3aa-907465284db8"
      },
      "execution_count": 3,
      "outputs": [
        {
          "output_type": "stream",
          "name": "stdout",
          "text": [
            "Downloading data from https://storage.googleapis.com/tensorflow/tf-keras-datasets/train-labels-idx1-ubyte.gz\n",
            "29515/29515 [==============================] - 0s 0us/step\n",
            "Downloading data from https://storage.googleapis.com/tensorflow/tf-keras-datasets/train-images-idx3-ubyte.gz\n",
            "26421880/26421880 [==============================] - 0s 0us/step\n",
            "Downloading data from https://storage.googleapis.com/tensorflow/tf-keras-datasets/t10k-labels-idx1-ubyte.gz\n",
            "5148/5148 [==============================] - 0s 0us/step\n",
            "Downloading data from https://storage.googleapis.com/tensorflow/tf-keras-datasets/t10k-images-idx3-ubyte.gz\n",
            "4422102/4422102 [==============================] - 0s 0us/step\n"
          ]
        }
      ]
    },
    {
      "cell_type": "markdown",
      "source": [
        "## Exploración de datos"
      ],
      "metadata": {
        "id": "qX9pIrFwkGtg"
      }
    },
    {
      "cell_type": "code",
      "source": [
        "# Grafique para identificar que contienen las imágenes del conjunto de datos"
      ],
      "metadata": {
        "id": "sX-ks1_SkQ8A"
      },
      "execution_count": null,
      "outputs": []
    },
    {
      "cell_type": "markdown",
      "source": [
        "## Preprocesamiento"
      ],
      "metadata": {
        "id": "99YQm1YEkurn"
      }
    },
    {
      "cell_type": "code",
      "source": [
        "# Normalice los datos entre 0 y 1 y grafique nuevamente para asegurarse que no se modifiquen las imágenes"
      ],
      "metadata": {
        "id": "_anQxyF1kx1E"
      },
      "execution_count": null,
      "outputs": []
    },
    {
      "cell_type": "markdown",
      "source": [
        "## Modelo"
      ],
      "metadata": {
        "id": "De5d4HcqlD3Y"
      }
    },
    {
      "cell_type": "code",
      "source": [
        "# Crear un modelo con dos capas ocultas, ajuste la cantidad de neuronas de cada capa para alcanzar una exactitud mayor al 98%"
      ],
      "metadata": {
        "id": "oXiZ1ro9lG6O"
      },
      "execution_count": null,
      "outputs": []
    },
    {
      "cell_type": "markdown",
      "source": [
        "## Compilación modelo"
      ],
      "metadata": {
        "id": "nl22_daWldUv"
      }
    },
    {
      "cell_type": "code",
      "source": [
        "model.compile(optimizer='adam', loss='sparse_categorical_crossentropy', metrics=['accuracy'])"
      ],
      "metadata": {
        "id": "Bna960Qslig2"
      },
      "execution_count": null,
      "outputs": []
    },
    {
      "cell_type": "markdown",
      "source": [
        "## Entrenamiento"
      ],
      "metadata": {
        "id": "4Hsh0fHHlkIX"
      }
    },
    {
      "cell_type": "code",
      "source": [
        "model.fit(train_images, train_labels, epochs=4)"
      ],
      "metadata": {
        "id": "aTHMUaZAloW-"
      },
      "execution_count": null,
      "outputs": []
    },
    {
      "cell_type": "code",
      "source": [
        "model.summary()"
      ],
      "metadata": {
        "id": "BCwMVp_qlrk-"
      },
      "execution_count": null,
      "outputs": []
    },
    {
      "cell_type": "markdown",
      "source": [
        "## Validación"
      ],
      "metadata": {
        "id": "CWC_Q7AKlv3Y"
      }
    },
    {
      "cell_type": "code",
      "source": [
        "test_loss, test_acc=model.evaluate(test_images, test_labels)\n",
        "print('Tested Acc:', test_acc)"
      ],
      "metadata": {
        "id": "UI5-84welxsn"
      },
      "execution_count": null,
      "outputs": []
    },
    {
      "cell_type": "markdown",
      "source": [
        "## Probando el modelo"
      ],
      "metadata": {
        "id": "DphgZt2vl0v3"
      }
    },
    {
      "cell_type": "code",
      "source": [
        "class_names = ['T-shirt/top', 'Trouser', 'Pullover', 'Dress', 'Coat',\n",
        "               'Sandal', 'Shirt', 'Sneaker', 'Bag', 'Ankle boot']     #Cada una de las clases definidias en el dataset\n",
        "prediccion=model.predict(test_images)\n",
        "print(class_names[np.argmax(prediccion[1])])"
      ],
      "metadata": {
        "id": "av_bc-8Ul3HO"
      },
      "execution_count": null,
      "outputs": []
    },
    {
      "cell_type": "code",
      "source": [
        "for i in range(5):\n",
        "  plt.grid(False)\n",
        "  plt.imshow(test_images[i], cmap=plt.cm.binary)\n",
        "  plt.xlabel('Actual: ' + class_names[test_labels[i]])\n",
        "  plt.title('Prediccion:' + class_names[np.argmax(prediccion[i])])\n",
        "  plt.show()"
      ],
      "metadata": {
        "id": "FDzfFlwjl49e"
      },
      "execution_count": null,
      "outputs": []
    }
  ]
}